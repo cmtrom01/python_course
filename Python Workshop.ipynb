{
 "cells": [
  {
   "cell_type": "markdown",
   "metadata": {},
   "source": [
    "# How to program computers using Python\n",
    "This workshop is designed to give you an intro into programming computers with the python programming language. The goal is for you to be able to write programs by the end and to begin thinking like a programmer.\n",
    "\n",
    "\n",
    "\n",
    "\n",
    "### What is programming?\n",
    "        The process of solving problems by creating algorithms and implementing the algorithms using a programming language.\n",
    "\n",
    "\n",
    "\n",
    "### What is a programming language?\n",
    "    Way to communicate with the computer hardware using instructions that you write in a text editor (shell or IDE)\n",
    "\n",
    "\n",
    "\n",
    "### How do you use a programming language?\n",
    "\n",
    "Know the 9 main building blocks, how they work independently, and how they work together\n",
    "\n",
    "### The 9 building blocks of programming:\n",
    "    1. Data types\n",
    "    2. Variables and constants\n",
    "    3. Operators\n",
    "    4. Conditional Statements\n",
    "    5. Loops\n",
    "    6. Collections\n",
    "    7. Functions\n",
    "    8. Classes\n",
    "    9. Libraries, APIS, and packages\n",
    "    \n",
    "If you master these you will be able to write almost any computer program you can think of\n",
    "\n",
    "Examples of programming languages:\n",
    "    C\n",
    "    C++\n",
    "    Java\n",
    "    Python\n",
    "    Swift\n",
    "    R\n",
    "    BASIC\n",
    "    Pascal\n",
    "    LISP\n",
    "\n",
    "Today we are focusing on Python\n",
    "    Easy to learn high level programming language that is very versatile. Common usages are back end web development, robotics, data analysis, machine learning, etc\n",
    "    One of the most popular programming languages\n",
    "    Compiled vs interpeted language\n",
    "\n",
    "    \n",
    "### How do we start writing code in Python?\n",
    "    First we need to make sure we have python downloaded on our computer \n",
    "    Go to terminal and type python --version\n",
    "    If the version doesn't print then you want to go to python.com and download python for your computer (step by step instructions in handout)\n",
    "    \n",
    "    After downloading python you need a medium to write code in\n",
    "    \n",
    "    You can use the terminal or an IDE\n",
    "    \n",
    "    To use the terminal all you have to do is go to your terminal, type python, and hit enter\n",
    "    \n",
    "    To use an IDE you have to download and install an IDE such as PyCharm or Spyder (step by step instructions in handout)\n",
    "    \n",
    "Now we will begin discuissing the main building blocks of programming    \n",
    "    "
   ]
  },
  {
   "cell_type": "markdown",
   "metadata": {},
   "source": [
    "## Block 1:\n",
    "\n",
    "### Data Types:\n",
    "\n",
    "    String\n",
    "        \"Programmer\" \"computer\" \"python\"\n",
    "    Char\n",
    "        'c' 'a' '9' '=' 'j'\n",
    "    Integer \n",
    "        1 3 4 0 9\n",
    "    Float \n",
    "        0.23 9.2423 5.887\n",
    "    Boolean \n",
    "        True False\n",
    "\n",
    "Type Wrappers:\n",
    "    Int()\n",
    "    Str()\n",
    "    Float()\n",
    "    \n",
    "    Used to convert one type to another to prevent errors\n",
    "    \n",
    "    example -\n",
    "    num = 1\n",
    "    print(\"The value of num is: \" + str(num))\n",
    "    \n",
    "    \n",
    "\n",
    "## Block 2:\n",
    "\n",
    "### Variables:\n",
    "    \n",
    "    assigment operator is =\n",
    "    varible names can be any length and can consist of uppercase and lowercase letters ( A-Z , a-z ), digits ( 0-9 ), and the underscore character ( _ ).\n",
    "    examples are\n",
    "    \n",
    "        tax_rate = 0.23\n",
    "        numOfFlips = 5\n",
    "        name = \"Bill\"\n",
    "        \n",
    "\n",
    "Don't have to tell the computer what the variable type is like in Java, C/C++, R, etc - python figures it out automatically \n",
    "    \n",
    "    \n",
    "    \n",
    "\n"
   ]
  },
  {
   "cell_type": "code",
   "execution_count": null,
   "metadata": {},
   "outputs": [],
   "source": [
    "##int\n",
    "num = 2\n",
    "print(num)"
   ]
  },
  {
   "cell_type": "code",
   "execution_count": null,
   "metadata": {},
   "outputs": [],
   "source": [
    "##String\n",
    "name = \"Chris\"\n",
    "print(name)"
   ]
  },
  {
   "cell_type": "code",
   "execution_count": null,
   "metadata": {},
   "outputs": [],
   "source": [
    "##Char\n",
    "letter = 'a'\n",
    "print(letter)"
   ]
  },
  {
   "cell_type": "code",
   "execution_count": null,
   "metadata": {},
   "outputs": [],
   "source": [
    "##float\n",
    "rate = 0.97\n",
    "print(rate)"
   ]
  },
  {
   "cell_type": "code",
   "execution_count": null,
   "metadata": {},
   "outputs": [],
   "source": [
    "##boolean\n",
    "tOrF = True\n",
    "print(tOrF)"
   ]
  },
  {
   "cell_type": "code",
   "execution_count": null,
   "metadata": {},
   "outputs": [],
   "source": [
    "Input\n",
    "    To take input from the keyboard you use the input() function along with a type wrapper"
   ]
  },
  {
   "cell_type": "code",
   "execution_count": 9,
   "metadata": {},
   "outputs": [
    {
     "name": "stdout",
     "output_type": "stream",
     "text": [
      "Enter a integer1\n",
      "1\n"
     ]
    }
   ],
   "source": [
    "a = int(input(\"Enter a integer: \"))\n",
    "\n",
    "print(a)"
   ]
  },
  {
   "cell_type": "markdown",
   "metadata": {},
   "source": [
    "## Block 3:\n",
    "\n",
    "### Operators\n",
    "\n",
    "    Artithmitic Operators\n",
    "        + add\n",
    "        - subtract\n",
    "        / divide\n",
    "        * multiple\n",
    "        % modulus\n",
    "        = assignment\n",
    "    \n",
    "    Used for math, variable declarations, and string concatanation\n",
    "    \n",
    "    \n",
    "    Conditional Operators\n",
    "        == equal **notice difference between this and assignment operator**\n",
    "        != not equal\n",
    "        > greater than\n",
    "        < less than\n",
    "        >= greater than or equal\n",
    "        <= less than or equal\n",
    "        \n",
    "    \n",
    "    Used to create comparsion statement used in conditional statements and loops which will be convered next\n",
    "    \n",
    "    Logical Operators   \n",
    "        and\n",
    "            use and keyword\n",
    "            used to check if two statements are true - only true if both are true\n",
    "            \n",
    "                if x > 1 and x < 7:\n",
    "                    print(\"x is between 1 and 7)\n",
    "                \n",
    "            \n",
    "        or\n",
    "            use or keyword\n",
    "            used to check if at least one of two statements are true - true is either statement is true\n",
    "                \n",
    "                if x > 1 or x < 7:\n",
    "                    print(\"x is greater than 1 or less than 7)\n",
    "            \n",
    "        not\n",
    "            use not keyword\n",
    "            used to check if a statement is not true\n",
    "            \n",
    "                if x not 1:\n",
    "                    print(\"x is not one\")"
   ]
  },
  {
   "cell_type": "code",
   "execution_count": null,
   "metadata": {},
   "outputs": [],
   "source": [
    "##add\n",
    "add = 2 + 2\n",
    "print(add)"
   ]
  },
  {
   "cell_type": "code",
   "execution_count": null,
   "metadata": {},
   "outputs": [],
   "source": [
    "##subtract\n",
    "subtract = 5-4\n",
    "print(subtract)"
   ]
  },
  {
   "cell_type": "code",
   "execution_count": null,
   "metadata": {},
   "outputs": [],
   "source": [
    "##divide\n",
    "divide = 8/4\n",
    "print(divide)"
   ]
  },
  {
   "cell_type": "code",
   "execution_count": null,
   "metadata": {},
   "outputs": [],
   "source": [
    "##multiply\n",
    "multiply = 9*9\n",
    "print(multiply)"
   ]
  },
  {
   "cell_type": "code",
   "execution_count": null,
   "metadata": {},
   "outputs": [],
   "source": [
    "##remainder\n",
    "modulus = 9%7\n",
    "print(modulus)"
   ]
  },
  {
   "cell_type": "markdown",
   "metadata": {},
   "source": [
    "## Block 4:\n",
    "\n",
    "### Conidtional Statements:\n",
    "\n",
    "    if statement\n",
    "        use if keyword\n",
    "        checks statement of first if and if that is  true then the program executes the corresponding lines of code otherwise it skips the lines of code and moves down to the next conditional to check if that is true and repeats this process\n",
    "    \n",
    "    if x == 1:\n",
    "        x = 1\n",
    "    elif x == 2:\n",
    "        x=2\n",
    "    else:\n",
    "        x = 10\n",
    "\n",
    "## Block 5: \n",
    "### Loops\n",
    "\n",
    "    while loop\n",
    "        use while keyword\n",
    "        checks statement at beginning of loop and continues executing until statement is no longer true\n",
    "        \n",
    "    while x != true:\n",
    "        x = x+1\n",
    "        \n",
    "    for loop\n",
    "        use for keyword\n",
    "        \n",
    "        for i in range(1,10):\n",
    "            print(\"Iteration number \" + i)\n",
    "            \n",
    "Beware of infinite loops    \n",
    "\n",
    "x = 0\n",
    "while x >= 0:\n",
    "    x = x +1\n",
    "    "
   ]
  },
  {
   "cell_type": "code",
   "execution_count": 2,
   "metadata": {},
   "outputs": [
    {
     "name": "stdout",
     "output_type": "stream",
     "text": [
      "0\n",
      "1\n",
      "2\n",
      "3\n",
      "4\n"
     ]
    }
   ],
   "source": [
    "##for loop\n",
    "for i in range(0,5):\n",
    "    print(i)"
   ]
  },
  {
   "cell_type": "code",
   "execution_count": 5,
   "metadata": {},
   "outputs": [
    {
     "name": "stdout",
     "output_type": "stream",
     "text": [
      "1\n",
      "2\n",
      "3\n",
      "4\n",
      "5\n"
     ]
    }
   ],
   "source": [
    "##while loop\n",
    "num = 0\n",
    "while num != 5:\n",
    "    num = num + 1\n",
    "    print(num)"
   ]
  },
  {
   "cell_type": "code",
   "execution_count": 6,
   "metadata": {
    "scrolled": false
   },
   "outputs": [
    {
     "name": "stdout",
     "output_type": "stream",
     "text": [
      "The number is neither 1 nor 3\n",
      "The number is 1\n",
      "The number is neither 1 nor 3\n",
      "The number is 3\n",
      "The number is neither 1 nor 3\n",
      "The number is neither 1 nor 3\n",
      "The number is neither 1 nor 3\n",
      "The number is neither 1 nor 3\n",
      "The number is neither 1 nor 3\n",
      "The number is neither 1 nor 3\n"
     ]
    }
   ],
   "source": [
    "##mix if statements and for loops\n",
    "for i in range(0,10):\n",
    "    if i == 1:\n",
    "        print(\"The number is 1\")\n",
    "    elif i == 3:\n",
    "        print(\"The number is 3\")\n",
    "    else:\n",
    "        print(\"The number is neither 1 nor 3\")"
   ]
  },
  {
   "cell_type": "markdown",
   "metadata": {},
   "source": [
    "## Block 6: \n",
    "\n",
    "### Collections\n",
    "\n",
    "    Use collections when one variable wont get the job done and you need to store groups of information\n",
    "    \n",
    "    Lists\n",
    "        store like items together in one variable\n",
    "        examples below"
   ]
  },
  {
   "cell_type": "code",
   "execution_count": 20,
   "metadata": {},
   "outputs": [
    {
     "name": "stdout",
     "output_type": "stream",
     "text": [
      "['dog', 'cat', 'mouse', 'frog']\n",
      "cat\n",
      "['cat', 'mouse', 'frog']\n",
      "[1, 2, 3, 4, 5]\n",
      "[1, 'hello', [1, 2, 3], 2.3]\n"
     ]
    }
   ],
   "source": [
    "# a list of strings\n",
    "animals = [\"dog\", \"cat\", \"mouse\", \"frog\"]\n",
    "\n",
    "# a list of numbers\n",
    "nums = [1,2 ,3,4,5]\n",
    "\n",
    "# a list of objects\n",
    "\n",
    "stuffs = [1, \"hello\", [1,2,3], 2.3]\n",
    "\n",
    "print(animals)\n",
    "\n",
    "print(animals[1])\n",
    "\n",
    "print(animals[1:])\n",
    "\n",
    "print(nums)\n",
    "\n",
    "print(stuffs)"
   ]
  },
  {
   "cell_type": "code",
   "execution_count": null,
   "metadata": {},
   "outputs": [],
   "source": [
    "Tuples\n",
    "    \n",
    "    Like lists, used to store multiple items in one variable\n",
    "    examples below\n",
    "    \n",
    "    Main difference between tuples and lists are tuples are immutable meaning they cannot be changed whereas lists are mutable meaning they can be changed\n",
    "\n",
    "    There are also sets and dictionaries which will not be covered today but you can google more about these if you want\n",
    "    \n",
    "    You can write most programs only using lists and tuples"
   ]
  },
  {
   "cell_type": "code",
   "execution_count": 14,
   "metadata": {},
   "outputs": [
    {
     "name": "stdout",
     "output_type": "stream",
     "text": [
      "cat\n",
      "('dog', 'fish')\n",
      "('cat', 'dog', 'fish')\n"
     ]
    }
   ],
   "source": [
    "#Tuples can use many of the list methods\n",
    "animals = ('cat', 'dog', 'fish')\n",
    "\n",
    "# an empty tuple\n",
    "my_tuple = ()\n",
    "\n",
    "example = 1,2,3\n",
    "\n",
    "# we can access a single element\n",
    "print(animals[0])\n",
    "\n",
    "# we can get a slice\n",
    "print(animals[1:]) # note that our slice will be a new tuple, not a list\n",
    "\n",
    "# we can count values or look up an index\n",
    "animals.count('cat')\n",
    "animals.index('cat')\n",
    "\n",
    "# ... but this is not allowed:\n",
    "#animals.append('canary')\n",
    "#animal[1] = 'gerbil'\n",
    "\n",
    "print(animals)"
   ]
  },
  {
   "cell_type": "markdown",
   "metadata": {},
   "source": [
    "## Block 6:\n",
    "\n",
    "### Functions\n",
    "\n",
    "    Main parts of a program - top down design thinking (most programmers start thinking this way afer 100 hours of programming)\n",
    "        Example - if you have a calculator program then top down thinking would be figuring out what functions you need first, second declaring this functions, and last add your loops, variables, coniditionals, etc\n",
    "    Pre defined procedure that is reusable\n",
    "    Way to organize your program and write less code\n",
    "        Example - if you have a program that has to ask for user input multiple times you can write a function that does this so you don't have to rewrite the same code multiple times"
   ]
  },
  {
   "cell_type": "code",
   "execution_count": 33,
   "metadata": {},
   "outputs": [
    {
     "name": "stdout",
     "output_type": "stream",
     "text": [
      "The sum is: 3\n"
     ]
    }
   ],
   "source": [
    "##function to add two numbers\n",
    "def addTwoNumbers(numOne, numTwo):\n",
    "    total = numOne + numTwo\n",
    "    return total\n",
    "\n",
    "##call to function to add two numbers\n",
    "num = addTwoNumbers(1,2)\n",
    "print(\"The sum is: \" + str(num))"
   ]
  },
  {
   "cell_type": "markdown",
   "metadata": {},
   "source": [
    "## Block 8:\n",
    "\n",
    "### Classes\n",
    "\n",
    "    Reusable template\n",
    "        Example - If you are making a video game and need a class for all the people in it. The way to do this is to figure out the common variables all people in the game will share and include these in your class so it's an effective template\n",
    "    Way to encapsulate similar information together\n",
    "    Collection of data and functions that are related to each other\n",
    "    Write classes to make programs more organized\n",
    "    Programs are made up of classes which are made up of functions which are made up of statements which are made up of variables, constants, loops, conditionals, etc\n",
    "    After class is created you can use it to create instances of the class in program\n",
    "        Note - you can have mutlipel instances of your class in your program for example you can have multiple people in the video game program. To do this you simply craete instances of the class \n",
    "    \n",
    "    **Not required for many basic programs**"
   ]
  },
  {
   "cell_type": "code",
   "execution_count": 31,
   "metadata": {},
   "outputs": [
    {
     "name": "stdout",
     "output_type": "stream",
     "text": [
      "Person 1's name is: John\n",
      "Person 2's age is: 36\n",
      "Person 2's name is: Bill\n",
      "Person 2's age is: 41\n"
     ]
    }
   ],
   "source": [
    "##class for person\n",
    "class Person:\n",
    "  def __init__(self, name, age):\n",
    "    self.name = name\n",
    "    self.age = age\n",
    "\n",
    "##create instance 1 of class and init    \n",
    "p1 = Person(\"John\", 36)\n",
    "\n",
    "##create instance 2 of class and init    \n",
    "p2 = Person(\"Bill\", 41)\n",
    "\n",
    "##print instance 1 vars\n",
    "print(\"Person 1's name is: \" + p1.name)\n",
    "print(\"Person 2's age is: \" + str(p1.age))\n",
    "\n",
    "##print instance 2 vars\n",
    "print(\"Person 2's name is: \" + p2.name)\n",
    "print(\"Person 2's age is: \" + str(p2.age))"
   ]
  },
  {
   "cell_type": "markdown",
   "metadata": {},
   "source": [
    "## Block 9:\n",
    "    \n",
    "### Packages, Libraries, and API's\n",
    "\n",
    "    use import keyword\n",
    "    collection of pre built functions we gain access to by importing\n",
    "    Each package has documentation that tells you what functions are included in the package and how to use them\n",
    "        You can find documentation by googling the package name\n",
    "        Example - google math package documentation python and the documentation will be one of the first search results\n",
    "    Examples of API's\n",
    "        Twitter API - gives you access to the majority of Twitter's data\n",
    "        Google Maps API - gives you access to google map functionality\n",
    "\n",
    "\n",
    "examples:\n",
    "    import math\n",
    "    import keras\n",
    "    import opencv"
   ]
  },
  {
   "cell_type": "code",
   "execution_count": 29,
   "metadata": {},
   "outputs": [
    {
     "name": "stdout",
     "output_type": "stream",
     "text": [
      "The answer is: 2.0\n"
     ]
    }
   ],
   "source": [
    "import math\n",
    "\n",
    "a =2\n",
    "\n",
    "sqrt = math.sqrt(a*a)\n",
    "print(\"The answer is: \" + str(sqrt))"
   ]
  },
  {
   "cell_type": "raw",
   "metadata": {},
   "source": [
    "Now we will go over example programs that put all this information together"
   ]
  }
 ],
 "metadata": {
  "kernelspec": {
   "display_name": "Python 2",
   "language": "python",
   "name": "python2"
  },
  "language_info": {
   "codemirror_mode": {
    "name": "ipython",
    "version": 2
   },
   "file_extension": ".py",
   "mimetype": "text/x-python",
   "name": "python",
   "nbconvert_exporter": "python",
   "pygments_lexer": "ipython2",
   "version": "2.7.16"
  }
 },
 "nbformat": 4,
 "nbformat_minor": 2
}
